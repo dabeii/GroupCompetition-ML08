{
 "cells": [
  {
   "cell_type": "code",
   "execution_count": 98,
   "id": "8a593529-6cab-4016-b88d-9318ef1a71ce",
   "metadata": {},
   "outputs": [
    {
     "name": "stdout",
     "output_type": "stream",
     "text": [
      "Labels counts in X_train 1879\n"
     ]
    }
   ],
   "source": [
    "import matplotlib.pyplot as plt\n",
    "import numpy as np\n",
    "import pandas as pd\n",
    "from sklearn.metrics import confusion_matrix\n",
    "from sklearn.model_selection import train_test_split\n",
    "df = pd.read_csv('./data/train.csv', sep='|')\n",
    "df_test = pd.read_csv('./data/test.csv', sep='|')\n",
    "\n",
    "new_df = df.dropna()\n",
    "new_df_test = df_test.dropna()\n",
    "\n",
    "new_df.insert(1, 'totalItemsScanned', new_df['scannedLineItemsPerSecond'] * new_df['totalScanTimeInSeconds'])\n",
    "new_df_test.insert(1, 'totalItemsScanned', new_df_test['scannedLineItemsPerSecond'] * new_df_test['totalScanTimeInSeconds'])\n",
    "\n",
    "y_train = new_df.pop('fraud')\n",
    "\n",
    "X_train = new_df.drop(columns=[\n",
    "    'scannedLineItemsPerSecond', 'lineItemVoidsPerPosition', 'valuePerSecond',\n",
    "    'quantityModifications', 'grandTotal'\n",
    "])\n",
    "X_test = new_df_test.drop(columns=[\n",
    "    'scannedLineItemsPerSecond', 'lineItemVoidsPerPosition', 'valuePerSecond',\n",
    "    'quantityModifications', 'grandTotal'\n",
    "])\n",
    "\n",
    "print('Labels counts in X_train',len(X_train))"
   ]
  },
  {
   "cell_type": "code",
   "execution_count": 99,
   "id": "da661b1f",
   "metadata": {},
   "outputs": [],
   "source": [
    "from sklearn.model_selection import train_test_split\n",
    "\n",
    "X_train, X_val, y_train, y_val = train_test_split(X_train, y_train, test_size=0.2, random_state=1)"
   ]
  },
  {
   "cell_type": "code",
   "execution_count": 100,
   "id": "b4e41cd3-1f4b-4951-a3c6-21db4b050d13",
   "metadata": {},
   "outputs": [
    {
     "name": "stderr",
     "output_type": "stream",
     "text": [
      "c:\\Users\\dabei-laptop\\AppData\\Local\\Programs\\Python\\Python312\\Lib\\site-packages\\sklearn\\linear_model\\_logistic.py:460: ConvergenceWarning: lbfgs failed to converge (status=1):\n",
      "STOP: TOTAL NO. of ITERATIONS REACHED LIMIT.\n",
      "\n",
      "Increase the number of iterations (max_iter) or scale the data as shown in:\n",
      "    https://scikit-learn.org/stable/modules/preprocessing.html\n",
      "Please also refer to the documentation for alternative solver options:\n",
      "    https://scikit-learn.org/stable/modules/linear_model.html#logistic-regression\n",
      "  n_iter_i = _check_optimize_result(\n"
     ]
    }
   ],
   "source": [
    "import pandas as pd\n",
    "from sklearn.tree import DecisionTreeClassifier\n",
    "from sklearn.neighbors import KNeighborsClassifier\n",
    "from sklearn.linear_model import LogisticRegression\n",
    "\n",
    "\n",
    "# Dự đoán kết quả từng mô hình và lưu vào DataFrame\n",
    "# Decision Tree\n",
    "dt_model = DecisionTreeClassifier(max_depth=3, criterion='gini')\n",
    "dt_model.fit(X_train, y_train)\n",
    "dt_preds_train = dt_model.predict(X_train)\n",
    "dt_preds_val = dt_model.predict(X_val)\n",
    "\n",
    "# K-Nearest Neighbors\n",
    "knn_model = KNeighborsClassifier()\n",
    "knn_model.fit(X_train, y_train)\n",
    "knn_preds_train = knn_model.predict(X_train)\n",
    "knn_preds_val = knn_model.predict(X_val)\n",
    "\n",
    "# Logistic Regression\n",
    "lr_model = LogisticRegression()\n",
    "lr_model.fit(X_train, y_train)\n",
    "lr_preds_train = lr_model.predict(X_train)\n",
    "lr_preds_val = lr_model.predict(X_val)"
   ]
  },
  {
   "cell_type": "markdown",
   "id": "65dce4e4",
   "metadata": {},
   "source": [
    "**Đánh giá hiệu suất**"
   ]
  },
  {
   "cell_type": "code",
   "execution_count": 101,
   "id": "469d5435",
   "metadata": {},
   "outputs": [
    {
     "name": "stdout",
     "output_type": "stream",
     "text": [
      "The train confusion matrix for Decision Tree model is: \n",
      " [[1416    6]\n",
      " [  29   52]]\n",
      "The validation confusion matrix for Decision Tree model is: \n",
      " [[351   2]\n",
      " [  6  17]]\n",
      "Train accuracy:  0.9767132401862941  | Validation accuracy:  0.9787234042553191\n"
     ]
    }
   ],
   "source": [
    "import sklearn.metrics as metrics\n",
    "\n",
    "dt_train_cm = metrics.confusion_matrix(y_train, dt_preds_train)\n",
    "dt_train_accuracy = metrics.accuracy_score(y_train,dt_preds_train)\n",
    "print('The train confusion matrix for Decision Tree model is:', '\\n', dt_train_cm)\n",
    "\n",
    "dt_val_cm = metrics.confusion_matrix(y_val,dt_preds_val)\n",
    "dt_val_accuracy = metrics.accuracy_score(y_val,dt_preds_val)\n",
    "print('The validation confusion matrix for Decision Tree model is:', '\\n', dt_val_cm)\n",
    "\n",
    "print('Train accuracy: ',dt_train_accuracy,' | Validation accuracy: ',dt_val_accuracy)\n"
   ]
  },
  {
   "cell_type": "code",
   "execution_count": 102,
   "id": "d910122f",
   "metadata": {},
   "outputs": [
    {
     "name": "stdout",
     "output_type": "stream",
     "text": [
      "The train confusion matrix for K-NN model is: \n",
      " [[1418    4]\n",
      " [  74    7]]\n",
      "The validation confusion matrix for K-NN model is: \n",
      " [[349   4]\n",
      " [ 23   0]]\n",
      "Train accuracy:  0.9481037924151696  | Validation accuracy:  0.9281914893617021\n"
     ]
    }
   ],
   "source": [
    "knn_train_cm = metrics.confusion_matrix(y_train, knn_preds_train)\n",
    "knn_train_accuracy = metrics.accuracy_score(y_train,knn_preds_train)\n",
    "print('The train confusion matrix for K-NN model is:', '\\n', knn_train_cm)\n",
    "\n",
    "knn_val_cm = metrics.confusion_matrix(y_val,knn_preds_val)\n",
    "knn_val_accuracy = metrics.accuracy_score(y_val,knn_preds_val)\n",
    "print('The validation confusion matrix for K-NN model is:', '\\n', knn_val_cm)\n",
    "\n",
    "print('Train accuracy: ',knn_train_accuracy,' | Validation accuracy: ',knn_val_accuracy)\n",
    "\n"
   ]
  },
  {
   "cell_type": "code",
   "execution_count": 103,
   "id": "5174f8a3",
   "metadata": {},
   "outputs": [
    {
     "name": "stdout",
     "output_type": "stream",
     "text": [
      "The train confusion matrix for Logistic Regression model is: \n",
      " [[1417    5]\n",
      " [   5   76]]\n",
      "The validation confusion matrix for Logistic Regression model is: \n",
      " [[1417    5]\n",
      " [   5   76]]\n",
      "Train accuracy:  0.9933466400532269  | Validation accuracy:  0.9920212765957447\n"
     ]
    }
   ],
   "source": [
    "lr_train_cm = metrics.confusion_matrix(y_train, lr_preds_train)\n",
    "lr_train_accuracy = metrics.accuracy_score(y_train,lr_preds_train)\n",
    "print('The train confusion matrix for Logistic Regression model is:', '\\n', lr_train_cm)\n",
    "\n",
    "lr_val_cm = metrics.confusion_matrix(y_val,lr_preds_val)\n",
    "lr_val_accuracy = metrics.accuracy_score(y_val,lr_preds_val)\n",
    "print('The validation confusion matrix for Logistic Regression model is:', '\\n', lr_train_cm)\n",
    "\n",
    "print('Train accuracy: ',lr_train_accuracy,' | Validation accuracy: ',lr_val_accuracy)\n"
   ]
  },
  {
   "cell_type": "code",
   "execution_count": 104,
   "id": "b425b246",
   "metadata": {},
   "outputs": [],
   "source": [
    "# import matplotlib.pyplot as plt\n",
    "# from sklearn.tree import plot_tree\n",
    "\n",
    "# plt.figure(figsize=(30, 20))\n",
    "\n",
    "# # Vẽ cây quyết định\n",
    "# plot_tree(dt_model, feature_names=X_train.columns, class_names=['No', 'Yes'], filled=True)\n",
    "\n",
    "# plt.show()"
   ]
  },
  {
   "cell_type": "code",
   "execution_count": 105,
   "id": "d9b4df62",
   "metadata": {},
   "outputs": [],
   "source": [
    "lr_pred_test = lr_model.predict(X_test)\n",
    "\n",
    "# Create result DataFrame\n",
    "result_df = pd.DataFrame({\"Logistic_Regression fraud predict\": lr_pred_test})\n",
    "\n",
    "# Lưu kết quả ra file CSV\n",
    "result_df.to_csv(\"./result/result.csv\", index=False)"
   ]
  }
 ],
 "metadata": {
  "kernelspec": {
   "display_name": "Python 3 (ipykernel)",
   "language": "python",
   "name": "python3"
  },
  "language_info": {
   "codemirror_mode": {
    "name": "ipython",
    "version": 3
   },
   "file_extension": ".py",
   "mimetype": "text/x-python",
   "name": "python",
   "nbconvert_exporter": "python",
   "pygments_lexer": "ipython3",
   "version": "3.12.1"
  }
 },
 "nbformat": 4,
 "nbformat_minor": 5
}
