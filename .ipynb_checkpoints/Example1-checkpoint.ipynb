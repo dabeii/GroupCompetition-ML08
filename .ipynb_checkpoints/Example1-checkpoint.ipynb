{
 "cells": [
  {
   "cell_type": "code",
   "execution_count": 1,
   "id": "8a593529-6cab-4016-b88d-9318ef1a71ce",
   "metadata": {},
   "outputs": [
    {
     "name": "stdout",
     "output_type": "stream",
     "text": [
      "X:       trustLevel  totalItemsScanned  totalScanTimeInSeconds  lineItemVoids  \\\n",
      "0              5               29.0                    1054              7   \n",
      "1              3               14.0                     108              5   \n",
      "2              3               13.0                    1516              3   \n",
      "3              6               29.0                    1791              8   \n",
      "4              5               27.0                     430              3   \n",
      "...          ...                ...                     ...            ...   \n",
      "1874           1               23.0                     321              8   \n",
      "1875           1               26.0                     397              5   \n",
      "1876           4               30.0                     316              5   \n",
      "1877           2               24.0                     685              1   \n",
      "1878           4               19.0                    1140              2   \n",
      "\n",
      "      scansWithoutRegistration  \n",
      "0                            0  \n",
      "1                            2  \n",
      "2                           10  \n",
      "3                            4  \n",
      "4                            7  \n",
      "...                        ...  \n",
      "1874                         7  \n",
      "1875                         5  \n",
      "1876                         8  \n",
      "1877                         6  \n",
      "1878                         2  \n",
      "\n",
      "[1879 rows x 5 columns]\n",
      "y: 0       0\n",
      "1       0\n",
      "2       0\n",
      "3       0\n",
      "4       0\n",
      "       ..\n",
      "1874    0\n",
      "1875    1\n",
      "1876    0\n",
      "1877    0\n",
      "1878    0\n",
      "Name: fraud, Length: 1879, dtype: int64\n"
     ]
    }
   ],
   "source": [
    "import matplotlib.pyplot as plt\n",
    "import numpy as np\n",
    "import pandas as pd\n",
    "from sklearn.metrics import confusion_matrix\n",
    "from sklearn.model_selection import train_test_split\n",
    "df = pd.read_csv('train.csv', sep='|')\n",
    "df_test = pd.read_csv('test.csv', sep='|')\n",
    "\n",
    "y_train = df.pop('fraud')\n",
    "df.insert(1, 'totalItemsScanned', df['scannedLineItemsPerSecond'] * df['totalScanTimeInSeconds'])\n",
    "X_train = df.drop(columns=[\n",
    "    'scannedLineItemsPerSecond', 'lineItemVoidsPerPosition', 'valuePerSecond',\n",
    "    'quantityModifications', 'grandTotal'\n",
    "])\n",
    "X_test = df.drop(columns=[\n",
    "    'scannedLineItemsPerSecond', 'lineItemVoidsPerPosition', 'valuePerSecond',\n",
    "    'quantityModifications', 'grandTotal'\n",
    "])\n",
    "print('X:', X_train)\n",
    "print('y:', y_train)"
   ]
  },
  {
   "cell_type": "code",
   "execution_count": 2,
   "id": "b4e41cd3-1f4b-4951-a3c6-21db4b050d13",
   "metadata": {},
   "outputs": [],
   "source": [
    "import pandas as pd\n",
    "from sklearn.model_selection import train_test_split\n",
    "from sklearn.tree import DecisionTreeClassifier\n",
    "from sklearn.neighbors import KNeighborsClassifier\n",
    "from sklearn.linear_model import LogisticRegression\n",
    "\n",
    "# Train-test split for evaluation\n",
    "X_train, X_val, y_train, y_val = train_test_split(X_train, y_train, test_size=0.2, random_state=42)\n",
    "\n",
    "# Decision Tree\n",
    "dt_model = DecisionTreeClassifier()\n",
    "dt_model.fit(X_train, y_train)\n",
    "dt_preds = dt_model.predict(X_test)\n",
    "\n",
    "# K-Nearest Neighbors\n",
    "knn_model = KNeighborsClassifier()\n",
    "knn_model.fit(X_train, y_train)\n",
    "knn_preds = knn_model.predict(X_test)\n",
    "\n",
    "# Logistic Regression\n",
    "lr_model = LogisticRegression()\n",
    "lr_model.fit(X_train, y_train)\n",
    "lr_preds = lr_model.predict(X_test)\n",
    "\n",
    "# Create result DataFrame\n",
    "result_df = pd.DataFrame({\"Decision_Tree\": dt_preds, \"KNN\": knn_preds, \"Logistic_Regression\": lr_preds})\n",
    "\n",
    "# Save result to CSV\n",
    "result_df.to_csv(\"result.csv\", index=False)\n"
   ]
  },
  {
   "cell_type": "code",
   "execution_count": null,
   "id": "01068c98-b276-4812-a4c8-466c3095432c",
   "metadata": {},
   "outputs": [],
   "source": []
  }
 ],
 "metadata": {
  "kernelspec": {
   "display_name": "Python 3 (ipykernel)",
   "language": "python",
   "name": "python3"
  },
  "language_info": {
   "codemirror_mode": {
    "name": "ipython",
    "version": 3
   },
   "file_extension": ".py",
   "mimetype": "text/x-python",
   "name": "python",
   "nbconvert_exporter": "python",
   "pygments_lexer": "ipython3",
   "version": "3.12.1"
  }
 },
 "nbformat": 4,
 "nbformat_minor": 5
}
