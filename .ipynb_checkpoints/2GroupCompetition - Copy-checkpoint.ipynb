{
 "cells": [
  {
   "cell_type": "markdown",
   "id": "2ad41fa1",
   "metadata": {},
   "source": [
    "### Chuẩn bị dữ liệu"
   ]
  },
  {
   "cell_type": "code",
   "execution_count": 14,
   "id": "8a593529-6cab-4016-b88d-9318ef1a71ce",
   "metadata": {},
   "outputs": [
    {
     "name": "stdout",
     "output_type": "stream",
     "text": [
      "Labels counts in X_train 1879\n",
      "Total rows in test set 498121\n"
     ]
    }
   ],
   "source": [
    "import matplotlib.pyplot as plt\n",
    "import numpy as np\n",
    "import pandas as pd\n",
    "from sklearn.metrics import confusion_matrix\n",
    "from sklearn.model_selection import train_test_split\n",
    "df = pd.read_csv('./data/train.csv', sep='|')\n",
    "df_test = pd.read_csv('./data/test.csv', sep='|')\n",
    "\n",
    "new_df = df.dropna()\n",
    "new_df_test = df_test.dropna()\n",
    "\n",
    "new_df.insert(1, 'totalItemsScanned', new_df['scannedLineItemsPerSecond'] * new_df['totalScanTimeInSeconds'])\n",
    "new_df_test.insert(1, 'totalItemsScanned', new_df_test['scannedLineItemsPerSecond'] * new_df_test['totalScanTimeInSeconds'])\n",
    "\n",
    "y_train = new_df.pop('fraud')\n",
    "\n",
    "X_train = new_df.drop(columns=[\n",
    "    'scannedLineItemsPerSecond', 'lineItemVoidsPerPosition', 'valuePerSecond',\n",
    "    'quantityModifications', 'grandTotal'\n",
    "])\n",
    "X_test = new_df_test.drop(columns=[\n",
    "    'scannedLineItemsPerSecond', 'lineItemVoidsPerPosition', 'valuePerSecond',\n",
    "    'quantityModifications', 'grandTotal'\n",
    "])\n",
    "\n",
    "print('Labels counts in X_train',len(X_train))\n",
    "print('Total rows in test set',len(X_test))"
   ]
  },
  {
   "cell_type": "markdown",
   "id": "24d5c061",
   "metadata": {},
   "source": [
    "**Chia tập dữ liệu**"
   ]
  },
  {
   "cell_type": "code",
   "execution_count": 15,
   "id": "da661b1f",
   "metadata": {},
   "outputs": [],
   "source": [
    "from sklearn.model_selection import train_test_split\n",
    "\n",
    "X_train, X_val, y_train, y_val = train_test_split(X_train, y_train, test_size=0.2, random_state=1)"
   ]
  },
  {
   "cell_type": "markdown",
   "id": "61f8fe7c",
   "metadata": {},
   "source": [
    "**Thực hiện gọi áp dụng mô hình chưa sử dụng siêu tham số**"
   ]
  },
  {
   "cell_type": "code",
   "execution_count": 16,
   "id": "b4e41cd3-1f4b-4951-a3c6-21db4b050d13",
   "metadata": {},
   "outputs": [
    {
     "name": "stderr",
     "output_type": "stream",
     "text": [
      "C:\\Users\\dangm\\miniconda3\\envs\\hocmay\\Lib\\site-packages\\sklearn\\linear_model\\_logistic.py:458: ConvergenceWarning: lbfgs failed to converge (status=1):\n",
      "STOP: TOTAL NO. of ITERATIONS REACHED LIMIT.\n",
      "\n",
      "Increase the number of iterations (max_iter) or scale the data as shown in:\n",
      "    https://scikit-learn.org/stable/modules/preprocessing.html\n",
      "Please also refer to the documentation for alternative solver options:\n",
      "    https://scikit-learn.org/stable/modules/linear_model.html#logistic-regression\n",
      "  n_iter_i = _check_optimize_result(\n"
     ]
    }
   ],
   "source": [
    "import pandas as pd\n",
    "from sklearn.tree import DecisionTreeClassifier\n",
    "from sklearn.neighbors import KNeighborsClassifier\n",
    "from sklearn.linear_model import LogisticRegression\n",
    "\n",
    "\n",
    "# Dự đoán kết quả từng mô hình và lưu vào DataFrame\n",
    "# Decision Tree\n",
    "dt_model = DecisionTreeClassifier(max_depth=3, criterion='gini')\n",
    "dt_model.fit(X_train, y_train)\n",
    "dt_preds_train = dt_model.predict(X_train)\n",
    "dt_preds_val = dt_model.predict(X_val)\n",
    "\n",
    "# K-Nearest Neighbors\n",
    "knn_model = KNeighborsClassifier()\n",
    "knn_model.fit(X_train, y_train)\n",
    "knn_preds_train = knn_model.predict(X_train)\n",
    "knn_preds_val = knn_model.predict(X_val)\n",
    "\n",
    "# Logistic Regression\n",
    "lr_model = LogisticRegression()\n",
    "lr_model.fit(X_train, y_train)\n",
    "lr_preds_train = lr_model.predict(X_train)\n",
    "lr_preds_val = lr_model.predict(X_val)"
   ]
  },
  {
   "cell_type": "markdown",
   "id": "65dce4e4",
   "metadata": {},
   "source": [
    "### **Đánh giá hiệu suất**"
   ]
  },
  {
   "cell_type": "code",
   "execution_count": 17,
   "id": "469d5435",
   "metadata": {},
   "outputs": [
    {
     "name": "stdout",
     "output_type": "stream",
     "text": [
      "The train confusion matrix for Decision Tree model is: \n",
      " [[1416    6]\n",
      " [  29   52]]\n",
      "The validation confusion matrix for Decision Tree model is: \n",
      " [[351   2]\n",
      " [  6  17]]\n",
      "Train accuracy:  0.9767132401862941  | Validation accuracy:  0.9787234042553191\n"
     ]
    }
   ],
   "source": [
    "import sklearn.metrics as metrics\n",
    "\n",
    "dt_train_cm = metrics.confusion_matrix(y_train, dt_preds_train)\n",
    "dt_train_accuracy = metrics.accuracy_score(y_train,dt_preds_train)\n",
    "print('The train confusion matrix for Decision Tree model is:', '\\n', dt_train_cm)\n",
    "\n",
    "dt_val_cm = metrics.confusion_matrix(y_val,dt_preds_val)\n",
    "dt_val_accuracy = metrics.accuracy_score(y_val,dt_preds_val)\n",
    "print('The validation confusion matrix for Decision Tree model is:', '\\n', dt_val_cm)\n",
    "\n",
    "print('Train accuracy: ',dt_train_accuracy,' | Validation accuracy: ',dt_val_accuracy)"
   ]
  },
  {
   "cell_type": "code",
   "execution_count": 18,
   "id": "d910122f",
   "metadata": {},
   "outputs": [
    {
     "name": "stdout",
     "output_type": "stream",
     "text": [
      "The train confusion matrix for K-NN model is: \n",
      " [[1418    4]\n",
      " [  74    7]]\n",
      "The validation confusion matrix for K-NN model is: \n",
      " [[349   4]\n",
      " [ 23   0]]\n",
      "Train accuracy:  0.9481037924151696  | Validation accuracy:  0.9281914893617021\n"
     ]
    }
   ],
   "source": [
    "knn_train_cm = metrics.confusion_matrix(y_train, knn_preds_train)\n",
    "knn_train_accuracy = metrics.accuracy_score(y_train,knn_preds_train)\n",
    "print('The train confusion matrix for K-NN model is:', '\\n', knn_train_cm)\n",
    "\n",
    "knn_val_cm = metrics.confusion_matrix(y_val,knn_preds_val)\n",
    "knn_val_accuracy = metrics.accuracy_score(y_val,knn_preds_val)\n",
    "print('The validation confusion matrix for K-NN model is:', '\\n', knn_val_cm)\n",
    "\n",
    "print('Train accuracy: ',knn_train_accuracy,' | Validation accuracy: ',knn_val_accuracy)"
   ]
  },
  {
   "cell_type": "code",
   "execution_count": 19,
   "id": "5174f8a3",
   "metadata": {},
   "outputs": [
    {
     "name": "stdout",
     "output_type": "stream",
     "text": [
      "The train confusion matrix for Logistic Regression model is: \n",
      " [[1417    5]\n",
      " [   5   76]]\n",
      "The validation confusion matrix for Logistic Regression model is: \n",
      " [[353   0]\n",
      " [  3  20]]\n",
      "Train accuracy:  0.9933466400532269  | Validation accuracy:  0.9920212765957447\n"
     ]
    }
   ],
   "source": [
    "lr_train_cm = metrics.confusion_matrix(y_train, lr_preds_train)\n",
    "lr_train_accuracy = metrics.accuracy_score(y_train,lr_preds_train)\n",
    "print('The train confusion matrix for Logistic Regression model is:', '\\n', lr_train_cm)\n",
    "\n",
    "lr_val_cm = metrics.confusion_matrix(y_val,lr_preds_val)\n",
    "lr_val_accuracy = metrics.accuracy_score(y_val,lr_preds_val)\n",
    "print('The validation confusion matrix for Logistic Regression model is:', '\\n', lr_val_cm)\n",
    "\n",
    "print('Train accuracy: ',lr_train_accuracy,' | Validation accuracy: ',lr_val_accuracy)"
   ]
  },
  {
   "cell_type": "code",
   "execution_count": 20,
   "id": "cb7c0386",
   "metadata": {},
   "outputs": [
    {
     "name": "stdout",
     "output_type": "stream",
     "text": [
      "2  has the best accuracy:  0.9920212765957447\n"
     ]
    }
   ],
   "source": [
    "accuracies = [dt_val_accuracy,knn_val_accuracy,lr_val_accuracy]\n",
    "best_accuracy = np.max(accuracies)\n",
    "accuracy_name = accuracies.index(best_accuracy)\n",
    "print(accuracy_name,' has the best accuracy: ',best_accuracy)"
   ]
  },
  {
   "cell_type": "markdown",
   "id": "e500b212",
   "metadata": {},
   "source": [
    "#### => Logistic regression đang cho ra độ đo accuracy cao nhất trên tập validation"
   ]
  },
  {
   "cell_type": "code",
   "execution_count": 21,
   "id": "d9b4df62",
   "metadata": {},
   "outputs": [
    {
     "name": "stdout",
     "output_type": "stream",
     "text": [
      "Rows with fraud predict:  (22551, 1)\n",
      "Rows with non-fraud predict:  (475570, 1)\n"
     ]
    }
   ],
   "source": [
    "lr_pred_test = lr_model.predict(X_test)\n",
    "\n",
    "# Create result DataFrame\n",
    "result_df = pd.DataFrame({\"fraud\": lr_pred_test})\n",
    "\n",
    "print('Rows with fraud predict: ',result_df[result_df['fraud'] == 1].shape)\n",
    "print('Rows with non-fraud predict: ',result_df[result_df['fraud'] == 0].shape)\n",
    "\n",
    "# Lưu kết quả ra file CSV\n",
    "result_df.to_csv(\"./result/result.csv\", index=False)\n",
    "#"
   ]
  },
  {
   "cell_type": "markdown",
   "id": "408eb8fb",
   "metadata": {},
   "source": [
    "## Tìm kiếm siêu tham số"
   ]
  },
  {
   "cell_type": "markdown",
   "id": "2bcec67e",
   "metadata": {},
   "source": [
    "#### *Mô hình Decision Tree*"
   ]
  },
  {
   "cell_type": "code",
   "execution_count": 22,
   "id": "1d2ff697",
   "metadata": {},
   "outputs": [
    {
     "name": "stdout",
     "output_type": "stream",
     "text": [
      "Best Parameters: {'max_depth': None, 'min_samples_leaf': 1, 'min_samples_split': 5}\n",
      "Best Score: 0.9800380359612724\n",
      "Validation Accuracy: 0.9867109634551495\n"
     ]
    }
   ],
   "source": [
    "from sklearn.tree import DecisionTreeClassifier\n",
    "from sklearn.model_selection import GridSearchCV, train_test_split\n",
    "\n",
    "# Chia dữ liệu thành tập huấn luyện và tập validation\n",
    "X_train, X_val, y_train, y_val = train_test_split(X_train, y_train, test_size=0.2, random_state=42)\n",
    "\n",
    "# Định nghĩa các giá trị siêu tham số cần tìm kiếm\n",
    "param_grid = {\n",
    "    'max_depth': [None, 10, 20, 30],  # Độ sâu tối đa của cây\n",
    "    'min_samples_split': [2, 5, 10],   # Số lượng mẫu tối thiểu cần để chia một nút\n",
    "    'min_samples_leaf': [1, 2, 4]      # Số lượng mẫu tối thiểu ở các lá\n",
    "}\n",
    "\n",
    "# Khởi tạo mô hình cây quyết định\n",
    "dt_model = DecisionTreeClassifier()\n",
    "\n",
    "# Tạo GridSearchCV\n",
    "grid_search = GridSearchCV(estimator=dt_model, param_grid=param_grid, cv=5, scoring='accuracy')\n",
    "\n",
    "# Tiến hành tìm kiếm siêu tham số\n",
    "grid_search.fit(X_train, y_train)\n",
    "\n",
    "# In ra kết quả tốt nhất\n",
    "print(\"Best Parameters:\", grid_search.best_params_)\n",
    "print(\"Best Score:\", grid_search.best_score_)\n",
    "\n",
    "# Đánh giá mô hình tốt nhất trên tập validation\n",
    "best_dt_model = grid_search.best_estimator_\n",
    "val_preds = best_dt_model.predict(X_val)\n",
    "print(\"Validation Accuracy:\", metrics.accuracy_score(y_val, val_preds))\n"
   ]
  },
  {
   "cell_type": "markdown",
   "id": "4cc33355",
   "metadata": {},
   "source": [
    "#### *Mô hình K-NN*"
   ]
  },
  {
   "cell_type": "code",
   "execution_count": 23,
   "id": "a21075eb",
   "metadata": {},
   "outputs": [
    {
     "name": "stdout",
     "output_type": "stream",
     "text": [
      "Best Parameters: {'metric': 'euclidean', 'n_neighbors': 7, 'weights': 'distance'}\n",
      "Best Score: 0.9450968188105119\n",
      "Validation Accuracy: 0.9568106312292359\n"
     ]
    }
   ],
   "source": [
    "from sklearn.model_selection import GridSearchCV\n",
    "from sklearn.neighbors import KNeighborsClassifier\n",
    "\n",
    "# Khởi tạo mô hình\n",
    "model = KNeighborsClassifier()\n",
    "\n",
    "# Định nghĩa lưới các giá trị siêu tham số cần tìm kiếm\n",
    "param_grid = {\n",
    "    'n_neighbors': [3, 5, 7, 9],         # Số lượng hàng xóm gần nhất\n",
    "    'weights': ['uniform', 'distance'],  # Phương pháp tính trọng số cho hàng xóm\n",
    "    'metric': ['euclidean', 'manhattan'] # Phương pháp tính khoảng cách\n",
    "}\n",
    "\n",
    "# Khởi tạo GridSearchCV\n",
    "grid_search = GridSearchCV(estimator=model, param_grid=param_grid, cv=5, scoring='accuracy')\n",
    "\n",
    "# Thực hiện tìm kiếm siêu tham số\n",
    "grid_search.fit(X_train, y_train)\n",
    "\n",
    "# Lấy siêu tham số tốt nhất và điểm số tốt nhất\n",
    "best_params = grid_search.best_params_\n",
    "best_score = grid_search.best_score_\n",
    "\n",
    "print(\"Best Parameters:\", best_params)\n",
    "print(\"Best Score:\", best_score)\n",
    "\n",
    "best_knn_model = grid_search.best_estimator_\n",
    "val_preds = best_knn_model.predict(X_val)\n",
    "print(\"Validation Accuracy:\", metrics.accuracy_score(y_val, val_preds))"
   ]
  },
  {
   "cell_type": "markdown",
   "id": "90c7a4a8",
   "metadata": {},
   "source": [
    "#### *Mô hình Logistic Regression*"
   ]
  },
  {
   "cell_type": "code",
   "execution_count": 24,
   "id": "b930f90c",
   "metadata": {},
   "outputs": [
    {
     "name": "stdout",
     "output_type": "stream",
     "text": [
      "Best Parameters: {'C': 1000000, 'penalty': 'l2'}\n",
      "Best Score: 0.9925069156293223\n",
      "Validation Accuracy: 0.9800664451827242\n"
     ]
    },
    {
     "name": "stderr",
     "output_type": "stream",
     "text": [
      "C:\\Users\\dangm\\miniconda3\\envs\\hocmay\\Lib\\site-packages\\sklearn\\model_selection\\_validation.py:378: FitFailedWarning: \n",
      "50 fits failed out of a total of 100.\n",
      "The score on these train-test partitions for these parameters will be set to nan.\n",
      "If these failures are not expected, you can try to debug them by setting error_score='raise'.\n",
      "\n",
      "Below are more details about the failures:\n",
      "--------------------------------------------------------------------------------\n",
      "50 fits failed with the following error:\n",
      "Traceback (most recent call last):\n",
      "  File \"C:\\Users\\dangm\\miniconda3\\envs\\hocmay\\Lib\\site-packages\\sklearn\\model_selection\\_validation.py\", line 686, in _fit_and_score\n",
      "    estimator.fit(X_train, y_train, **fit_params)\n",
      "  File \"C:\\Users\\dangm\\miniconda3\\envs\\hocmay\\Lib\\site-packages\\sklearn\\linear_model\\_logistic.py\", line 1162, in fit\n",
      "    solver = _check_solver(self.solver, self.penalty, self.dual)\n",
      "             ^^^^^^^^^^^^^^^^^^^^^^^^^^^^^^^^^^^^^^^^^^^^^^^^^^^\n",
      "  File \"C:\\Users\\dangm\\miniconda3\\envs\\hocmay\\Lib\\site-packages\\sklearn\\linear_model\\_logistic.py\", line 54, in _check_solver\n",
      "    raise ValueError(\n",
      "ValueError: Solver lbfgs supports only 'l2' or 'none' penalties, got l1 penalty.\n",
      "\n",
      "  warnings.warn(some_fits_failed_message, FitFailedWarning)\n",
      "C:\\Users\\dangm\\miniconda3\\envs\\hocmay\\Lib\\site-packages\\sklearn\\model_selection\\_search.py:952: UserWarning: One or more of the test scores are non-finite: [       nan 0.94343015        nan 0.95591286        nan 0.98336791\n",
      "        nan 0.98835408        nan 0.9916805         nan 0.98753112\n",
      "        nan 0.99167358        nan 0.98667704        nan 0.98751383\n",
      "        nan 0.99250692]\n",
      "  warnings.warn(\n",
      "C:\\Users\\dangm\\miniconda3\\envs\\hocmay\\Lib\\site-packages\\sklearn\\linear_model\\_logistic.py:458: ConvergenceWarning: lbfgs failed to converge (status=1):\n",
      "STOP: TOTAL NO. of ITERATIONS REACHED LIMIT.\n",
      "\n",
      "Increase the number of iterations (max_iter) or scale the data as shown in:\n",
      "    https://scikit-learn.org/stable/modules/preprocessing.html\n",
      "Please also refer to the documentation for alternative solver options:\n",
      "    https://scikit-learn.org/stable/modules/linear_model.html#logistic-regression\n",
      "  n_iter_i = _check_optimize_result(\n"
     ]
    }
   ],
   "source": [
    "from sklearn.model_selection import GridSearchCV\n",
    "from sklearn.linear_model import LogisticRegression\n",
    "\n",
    "# Khởi tạo mô hình\n",
    "model = LogisticRegression()\n",
    "\n",
    "# Định nghĩa lưới các giá trị siêu tham số cần tìm kiếm\n",
    "param_grid = {\n",
    "    'penalty': ['l1', 'l2'],             # Phương pháp chuẩn hóa (L1 hoặc L2)\n",
    "    'C': [0.001, 0.01, 0.1, 1, 10, 100, 1000, 10000, 100000, 1000000]  # Tham số điều chuẩn\n",
    "}\n",
    "\n",
    "# Khởi tạo GridSearchCV\n",
    "grid_search = GridSearchCV(estimator=model, param_grid=param_grid, cv=5, scoring='accuracy',n_jobs=-1)\n",
    "\n",
    "# Thực hiện tìm kiếm siêu tham số\n",
    "grid_search.fit(X_train, y_train)\n",
    "\n",
    "# Lấy siêu tham số tốt nhất và điểm số tốt nhất\n",
    "best_params = grid_search.best_params_\n",
    "best_score = grid_search.best_score_\n",
    "\n",
    "print(\"Best Parameters:\", best_params)\n",
    "print(\"Best Score:\", best_score)\n",
    "\n",
    "best_lr_model = grid_search.best_estimator_\n",
    "val_preds = best_lr_model.predict(X_val)\n",
    "print(\"Validation Accuracy:\", metrics.accuracy_score(y_val, val_preds))"
   ]
  },
  {
   "cell_type": "code",
   "execution_count": 25,
   "id": "2d2e6baa",
   "metadata": {},
   "outputs": [
    {
     "name": "stdout",
     "output_type": "stream",
     "text": [
      "Rows with fraud predict:  (25563, 1)\n",
      "Rows with non-fraud predict:  (472558, 1)\n"
     ]
    }
   ],
   "source": [
    "lr_best_pred_test = best_lr_model.predict(X_test)\n",
    "\n",
    "# Create result DataFrame\n",
    "result_best_df = pd.DataFrame({\"fraud\": lr_best_pred_test})\n",
    "\n",
    "print('Rows with fraud predict: ',result_best_df[result_best_df['fraud'] == 1].shape)\n",
    "print('Rows with non-fraud predict: ',result_best_df[result_best_df['fraud'] == 0].shape)\n",
    "\n",
    "# Lưu kết quả ra file CSV\n",
    "result_df.to_csv(\"./result/result_with_hyperparameter.csv\", index=False)\n",
    "#"
   ]
  },
  {
   "cell_type": "markdown",
   "id": "eabdeff7",
   "metadata": {},
   "source": [
    "#### **So sánh số dự đoán giữa 2 mô hình normal và hyper-parameter applied**"
   ]
  },
  {
   "cell_type": "code",
   "execution_count": 26,
   "id": "533e3bdb",
   "metadata": {},
   "outputs": [
    {
     "name": "stdout",
     "output_type": "stream",
     "text": [
      "Rows end up detecting fraud with normal model:  22551\n",
      "Rows end up detecting fraud with hyper-parameter applied model:  25563\n"
     ]
    }
   ],
   "source": [
    "\n",
    "print('Rows end up detecting fraud with normal model: ',len(result_df[result_df['fraud'] == 1]))\n",
    "print('Rows end up detecting fraud with hyper-parameter applied model: ',len(result_best_df[result_best_df['fraud'] == 1]))"
   ]
  },
  {
   "cell_type": "code",
   "execution_count": null,
   "id": "1d652500-d4bd-4a0e-9c26-f3d9c8b79fea",
   "metadata": {},
   "outputs": [],
   "source": []
  },
  {
   "cell_type": "code",
   "execution_count": null,
   "id": "eb12a56d-0975-4011-9cab-6bc1b0089a8a",
   "metadata": {},
   "outputs": [],
   "source": []
  },
  {
   "cell_type": "code",
   "execution_count": null,
   "id": "0159a0a1-6f7b-44a9-a1a1-6065471a5427",
   "metadata": {},
   "outputs": [],
   "source": []
  },
  {
   "cell_type": "code",
   "execution_count": null,
   "id": "385230b3-9f93-4fd5-a2a8-cab552b3feed",
   "metadata": {},
   "outputs": [],
   "source": []
  }
 ],
 "metadata": {
  "kernelspec": {
   "display_name": "Python 3 (ipykernel)",
   "language": "python",
   "name": "python3"
  },
  "language_info": {
   "codemirror_mode": {
    "name": "ipython",
    "version": 3
   },
   "file_extension": ".py",
   "mimetype": "text/x-python",
   "name": "python",
   "nbconvert_exporter": "python",
   "pygments_lexer": "ipython3",
   "version": "3.11.7"
  }
 },
 "nbformat": 4,
 "nbformat_minor": 5
}
