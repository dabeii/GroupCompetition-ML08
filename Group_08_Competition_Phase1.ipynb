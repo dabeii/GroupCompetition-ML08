{
 "cells": [
  {
   "cell_type": "markdown",
   "id": "2ad41fa1",
   "metadata": {},
   "source": [
    "## **Chuẩn bị dữ liệu**:"
   ]
  },
  {
   "cell_type": "markdown",
   "id": "22e56510",
   "metadata": {},
   "source": [
    "##### Ở bước này sẽ thực hiện đọc dữ liệu đầu vào từ file train.csv:\n",
    "##### - *Đối với tập train sẽ đọc từ train.csv và sử dụng cột 'fraud' trong dataframe để làm lớp của tập train (y)*\n",
    "##### - *Đối với tập test sẽ đọc từ file test.csv*"
   ]
  },
  {
   "cell_type": "code",
   "execution_count": 120,
   "id": "8a593529-6cab-4016-b88d-9318ef1a71ce",
   "metadata": {},
   "outputs": [
    {
     "name": "stdout",
     "output_type": "stream",
     "text": [
      "Labels counts in X_train 1879\n",
      "Total rows in test set 498121\n"
     ]
    }
   ],
   "source": [
    "import matplotlib.pyplot as plt\n",
    "import numpy as np\n",
    "import pandas as pd\n",
    "from sklearn.metrics import confusion_matrix\n",
    "from sklearn.model_selection import train_test_split\n",
    "df = pd.read_csv('./data/train.csv', sep='|')\n",
    "df_test = pd.read_csv('./data/test.csv', sep='|')\n",
    "\n",
    "new_df = df.dropna()\n",
    "new_df_test = df_test.dropna()\n",
    "\n",
    "new_df.insert(1, 'totalItemsScanned', new_df['scannedLineItemsPerSecond'] * new_df['totalScanTimeInSeconds'])\n",
    "new_df_test.insert(1, 'totalItemsScanned', new_df_test['scannedLineItemsPerSecond'] * new_df_test['totalScanTimeInSeconds'])\n",
    "\n",
    "y = new_df.pop('fraud')\n",
    "X = new_df.drop(columns=[\n",
    "    'scannedLineItemsPerSecond', 'lineItemVoidsPerPosition', 'valuePerSecond',\n",
    "    'quantityModifications', 'grandTotal'\n",
    "])\n",
    "X_test = new_df_test.drop(columns=[\n",
    "    'scannedLineItemsPerSecond', 'lineItemVoidsPerPosition', 'valuePerSecond',\n",
    "    'quantityModifications', 'grandTotal'\n",
    "])\n",
    "\n",
    "print('Labels counts in X_train',len(X))\n",
    "print('Total rows in test set',len(X_test))"
   ]
  },
  {
   "cell_type": "markdown",
   "id": "24d5c061",
   "metadata": {},
   "source": [
    "## **Chia tập dữ liệu:**\n",
    "##### Ở bước này sẽ chia tập dữ liệu đọc từ train.csv ra làm 2 phần cho train và validation"
   ]
  },
  {
   "cell_type": "code",
   "execution_count": 121,
   "id": "da661b1f",
   "metadata": {},
   "outputs": [],
   "source": [
    "from sklearn.model_selection import train_test_split\n",
    "\n",
    "X_train, X_val, y_train, y_val = train_test_split(X, y, test_size=0.2, random_state=1)"
   ]
  },
  {
   "cell_type": "markdown",
   "id": "61f8fe7c",
   "metadata": {},
   "source": [
    "## **Thực hiện áp dụng mô hình để học dữ liệu trên tập Train và đưa ra phân lớp trên tập Validation:**"
   ]
  },
  {
   "cell_type": "markdown",
   "id": "5d6868df",
   "metadata": {},
   "source": [
    "##### Trước khi đi vào học và phân tích dữ liệu, nhóm sẽ tiến hành train dữ liệu với các mô hình học máy được cung cấp bởi sklearn và KHÔNG sử dụng siêu tham số để tiến hành đánh giá ban đầu, vì đây là bài toán phân lớp (Binary Classification) nên nhóm sẽ quyết định sử dụng 3 mô hình:"
   ]
  },
  {
   "cell_type": "markdown",
   "id": "3ea5a2e3",
   "metadata": {},
   "source": [
    "- *Decision Tree*"
   ]
  },
  {
   "cell_type": "markdown",
   "id": "c18cab02",
   "metadata": {},
   "source": [
    "- *K-NN Neighbor*"
   ]
  },
  {
   "cell_type": "markdown",
   "id": "c024f2c0",
   "metadata": {},
   "source": [
    "- *Logistic Regression*"
   ]
  },
  {
   "cell_type": "code",
   "execution_count": 122,
   "id": "b4e41cd3-1f4b-4951-a3c6-21db4b050d13",
   "metadata": {},
   "outputs": [
    {
     "name": "stderr",
     "output_type": "stream",
     "text": [
      "c:\\Users\\DABEII-PC\\AppData\\Local\\Programs\\Python\\Python312\\Lib\\site-packages\\sklearn\\linear_model\\_logistic.py:469: ConvergenceWarning: lbfgs failed to converge (status=1):\n",
      "STOP: TOTAL NO. of ITERATIONS REACHED LIMIT.\n",
      "\n",
      "Increase the number of iterations (max_iter) or scale the data as shown in:\n",
      "    https://scikit-learn.org/stable/modules/preprocessing.html\n",
      "Please also refer to the documentation for alternative solver options:\n",
      "    https://scikit-learn.org/stable/modules/linear_model.html#logistic-regression\n",
      "  n_iter_i = _check_optimize_result(\n"
     ]
    }
   ],
   "source": [
    "import pandas as pd\n",
    "from sklearn.tree import DecisionTreeClassifier\n",
    "from sklearn.neighbors import KNeighborsClassifier\n",
    "from sklearn.linear_model import LogisticRegression\n",
    "\n",
    "\n",
    "# Dự đoán kết quả từng mô hình và lưu vào DataFrame\n",
    "# Decision Tree\n",
    "dt_model = DecisionTreeClassifier(max_depth=3, criterion='gini')\n",
    "dt_model.fit(X_train, y_train)\n",
    "dt_preds_train = dt_model.predict(X_train)\n",
    "dt_preds_val = dt_model.predict(X_val)\n",
    "\n",
    "# K-Nearest Neighbors\n",
    "knn_model = KNeighborsClassifier()\n",
    "knn_model.fit(X_train, y_train)\n",
    "knn_preds_train = knn_model.predict(X_train)\n",
    "knn_preds_val = knn_model.predict(X_val)\n",
    "\n",
    "# Logistic Regression\n",
    "lr_model = LogisticRegression()\n",
    "lr_model.fit(X_train, y_train)\n",
    "lr_preds_train = lr_model.predict(X_train)\n",
    "lr_preds_val = lr_model.predict(X_val)"
   ]
  },
  {
   "cell_type": "markdown",
   "id": "65dce4e4",
   "metadata": {},
   "source": [
    "## **Đánh giá hiệu suất**"
   ]
  },
  {
   "cell_type": "code",
   "execution_count": 123,
   "id": "469d5435",
   "metadata": {},
   "outputs": [
    {
     "name": "stdout",
     "output_type": "stream",
     "text": [
      "The train confusion matrix for Decision Tree model is: \n",
      " [[1416    6]\n",
      " [  29   52]]\n",
      "The validation confusion matrix for Decision Tree model is: \n",
      " [[351   2]\n",
      " [  6  17]]\n",
      "Train accuracy:  0.9767132401862941  | Validation accuracy:  0.9787234042553191\n"
     ]
    }
   ],
   "source": [
    "import sklearn.metrics as metrics\n",
    "\n",
    "dt_train_cm = metrics.confusion_matrix(y_train, dt_preds_train)\n",
    "dt_train_accuracy = metrics.accuracy_score(y_train,dt_preds_train)\n",
    "print('The train confusion matrix for Decision Tree model is:', '\\n', dt_train_cm)\n",
    "\n",
    "dt_val_cm = metrics.confusion_matrix(y_val,dt_preds_val)\n",
    "dt_val_accuracy = metrics.accuracy_score(y_val,dt_preds_val)\n",
    "print('The validation confusion matrix for Decision Tree model is:', '\\n', dt_val_cm)\n",
    "\n",
    "print('Train accuracy: ',dt_train_accuracy,' | Validation accuracy: ',dt_val_accuracy)"
   ]
  },
  {
   "cell_type": "code",
   "execution_count": 124,
   "id": "d910122f",
   "metadata": {},
   "outputs": [
    {
     "name": "stdout",
     "output_type": "stream",
     "text": [
      "The train confusion matrix for K-NN model is: \n",
      " [[1418    4]\n",
      " [  74    7]]\n",
      "The validation confusion matrix for K-NN model is: \n",
      " [[349   4]\n",
      " [ 23   0]]\n",
      "Train accuracy:  0.9481037924151696  | Validation accuracy:  0.9281914893617021\n"
     ]
    }
   ],
   "source": [
    "knn_train_cm = metrics.confusion_matrix(y_train, knn_preds_train)\n",
    "knn_train_accuracy = metrics.accuracy_score(y_train,knn_preds_train)\n",
    "print('The train confusion matrix for K-NN model is:', '\\n', knn_train_cm)\n",
    "\n",
    "knn_val_cm = metrics.confusion_matrix(y_val,knn_preds_val)\n",
    "knn_val_accuracy = metrics.accuracy_score(y_val,knn_preds_val)\n",
    "print('The validation confusion matrix for K-NN model is:', '\\n', knn_val_cm)\n",
    "\n",
    "print('Train accuracy: ',knn_train_accuracy,' | Validation accuracy: ',knn_val_accuracy)"
   ]
  },
  {
   "cell_type": "code",
   "execution_count": 125,
   "id": "5174f8a3",
   "metadata": {},
   "outputs": [
    {
     "name": "stdout",
     "output_type": "stream",
     "text": [
      "The train confusion matrix for Logistic Regression model is: \n",
      " [[1417    5]\n",
      " [   5   76]]\n",
      "The validation confusion matrix for Logistic Regression model is: \n",
      " [[353   0]\n",
      " [  3  20]]\n",
      "Train accuracy:  0.9933466400532269  | Validation accuracy:  0.9920212765957447\n"
     ]
    }
   ],
   "source": [
    "lr_train_cm = metrics.confusion_matrix(y_train, lr_preds_train)\n",
    "lr_train_accuracy = metrics.accuracy_score(y_train,lr_preds_train)\n",
    "print('The train confusion matrix for Logistic Regression model is:', '\\n', lr_train_cm)\n",
    "\n",
    "lr_val_cm = metrics.confusion_matrix(y_val,lr_preds_val)\n",
    "lr_val_accuracy = metrics.accuracy_score(y_val,lr_preds_val)\n",
    "print('The validation confusion matrix for Logistic Regression model is:', '\\n', lr_val_cm)\n",
    "\n",
    "print('Train accuracy: ',lr_train_accuracy,' | Validation accuracy: ',lr_val_accuracy)"
   ]
  },
  {
   "cell_type": "code",
   "execution_count": 126,
   "id": "cb7c0386",
   "metadata": {},
   "outputs": [
    {
     "name": "stdout",
     "output_type": "stream",
     "text": [
      "2  has the best accuracy:  0.9920212765957447\n"
     ]
    }
   ],
   "source": [
    "accuracies = [dt_val_accuracy,knn_val_accuracy,lr_val_accuracy]\n",
    "best_accuracy = np.max(accuracies)\n",
    "accuracy_name = accuracies.index(best_accuracy)\n",
    "print(accuracy_name,' has the best accuracy: ',best_accuracy)"
   ]
  },
  {
   "cell_type": "markdown",
   "id": "1d9234c8",
   "metadata": {},
   "source": [
    "##### Thông qua confusion matrix, có thể thấy mô hình logistic đang cho ra TPR và FPR  cao hơn 2 mô hình còn lại"
   ]
  },
  {
   "cell_type": "markdown",
   "id": "92b32a87",
   "metadata": {},
   "source": [
    "##### Thông qua độ đo 'Accuracy' logistic regression cũng đang có giá trị lớn nhất"
   ]
  },
  {
   "cell_type": "markdown",
   "id": "e500b212",
   "metadata": {},
   "source": [
    "#### => Logistic regression đang đưa ra sự phân lớp chính xác nhất trên tập validation"
   ]
  },
  {
   "cell_type": "code",
   "execution_count": 127,
   "id": "d9b4df62",
   "metadata": {},
   "outputs": [
    {
     "name": "stdout",
     "output_type": "stream",
     "text": [
      "Rows with fraud predict:  (22551, 1)\n",
      "Rows with non-fraud predict:  (475570, 1)\n"
     ]
    }
   ],
   "source": [
    "lr_pred_test = lr_model.predict(X_test)\n",
    "\n",
    "# Create result DataFrame\n",
    "result_df = pd.DataFrame({\"fraud\": lr_pred_test})\n",
    "\n",
    "print('Rows with fraud predict: ',result_df[result_df['fraud'] == 1].shape)\n",
    "print('Rows with non-fraud predict: ',result_df[result_df['fraud'] == 0].shape)\n",
    "\n",
    "# Lưu kết quả ra file CSV\n",
    "result_df.to_csv(\"./result/result.csv\", index=False)"
   ]
  },
  {
   "cell_type": "markdown",
   "id": "408eb8fb",
   "metadata": {},
   "source": [
    "## **Tìm kiếm siêu tham số:**"
   ]
  },
  {
   "cell_type": "markdown",
   "id": "520d9057",
   "metadata": {},
   "source": [
    "##### *Trong mục này nhóm sử dụng GridSearchCV để cấu hình các tập giá trị siêu tham số và thực hiện lựa chọn tập giá trị cho ra kết quả phân lớp tốt nhất trên các mô hình*"
   ]
  },
  {
   "cell_type": "markdown",
   "id": "2bcec67e",
   "metadata": {},
   "source": [
    "##### *Mô hình Decision Tree:*"
   ]
  },
  {
   "cell_type": "code",
   "execution_count": 128,
   "id": "1d2ff697",
   "metadata": {},
   "outputs": [
    {
     "name": "stdout",
     "output_type": "stream",
     "text": [
      "Best Parameters: {'max_depth': None, 'min_samples_leaf': 2, 'min_samples_split': 5}\n",
      "Best Score: 0.9827109634551496\n",
      "Validation Accuracy: 0.9840425531914894\n"
     ]
    }
   ],
   "source": [
    "from sklearn.tree import DecisionTreeClassifier\n",
    "from sklearn.model_selection import GridSearchCV, train_test_split\n",
    "\n",
    "# Chia dữ liệu thành tập huấn luyện và tập validation\n",
    "X_train, X_val, y_train, y_val = train_test_split(X, y, test_size=0.2, random_state=1)\n",
    "\n",
    "# Định nghĩa các giá trị siêu tham số cần tìm kiếm\n",
    "param_grid = {\n",
    "    'max_depth': [None, 10, 20, 30],  # Độ sâu tối đa của cây\n",
    "    'min_samples_split': [2, 5, 10],   # Số lượng mẫu tối thiểu cần để chia một nút\n",
    "    'min_samples_leaf': [1, 2, 4]      # Số lượng mẫu tối thiểu ở các lá\n",
    "}\n",
    "\n",
    "# Khởi tạo mô hình cây quyết định\n",
    "dt_model = DecisionTreeClassifier()\n",
    "\n",
    "# Tạo GridSearchCV\n",
    "grid_search = GridSearchCV(estimator=dt_model, param_grid=param_grid, cv=5, scoring='accuracy')\n",
    "\n",
    "# Tiến hành tìm kiếm siêu tham số\n",
    "grid_search.fit(X_train, y_train)\n",
    "\n",
    "# In ra kết quả tốt nhất\n",
    "print(\"Best Parameters:\", grid_search.best_params_)\n",
    "print(\"Best Score:\", grid_search.best_score_)\n",
    "\n",
    "# Đánh giá mô hình tốt nhất trên tập validation\n",
    "best_dt_model = grid_search.best_estimator_\n",
    "best_dt_val_preds = best_dt_model.predict(X_val)\n",
    "best_dt_model_accuracy = metrics.accuracy_score(y_val, best_dt_val_preds)\n",
    "print(\"Validation Accuracy:\", best_dt_model_accuracy)"
   ]
  },
  {
   "cell_type": "markdown",
   "id": "4cc33355",
   "metadata": {},
   "source": [
    "#### *Mô hình K-NN:*"
   ]
  },
  {
   "cell_type": "code",
   "execution_count": 129,
   "id": "a21075eb",
   "metadata": {},
   "outputs": [
    {
     "name": "stdout",
     "output_type": "stream",
     "text": [
      "Best Parameters: {'metric': 'manhattan', 'n_neighbors': 9, 'weights': 'distance'}\n",
      "Best Score: 0.9487707641196014\n",
      "Validation Accuracy: 0.9361702127659575\n"
     ]
    }
   ],
   "source": [
    "from sklearn.model_selection import GridSearchCV\n",
    "from sklearn.neighbors import KNeighborsClassifier\n",
    "\n",
    "# Khởi tạo mô hình\n",
    "model = KNeighborsClassifier()\n",
    "\n",
    "# Định nghĩa lưới các giá trị siêu tham số cần tìm kiếm\n",
    "param_grid = {\n",
    "    'n_neighbors': [3, 5, 7, 9],         # Số lượng hàng xóm gần nhất\n",
    "    'weights': ['uniform', 'distance'],  # Phương pháp tính trọng số cho hàng xóm\n",
    "    'metric': ['euclidean', 'manhattan'] # Phương pháp tính khoảng cách\n",
    "}\n",
    "\n",
    "# Khởi tạo GridSearchCV\n",
    "grid_search = GridSearchCV(estimator=model, param_grid=param_grid, cv=5, scoring='accuracy')\n",
    "\n",
    "# Thực hiện tìm kiếm siêu tham số\n",
    "grid_search.fit(X_train, y_train)\n",
    "\n",
    "# Lấy siêu tham số tốt nhất và điểm số tốt nhất\n",
    "best_params = grid_search.best_params_\n",
    "best_score = grid_search.best_score_\n",
    "\n",
    "print(\"Best Parameters:\", best_params)\n",
    "print(\"Best Score:\", best_score)\n",
    "\n",
    "best_knn_model = grid_search.best_estimator_\n",
    "best_knn_val_preds = best_knn_model.predict(X_val)\n",
    "best_knn_model_accuracy = metrics.accuracy_score(y_val, best_knn_val_preds)\n",
    "print(\"Validation Accuracy:\", best_knn_model_accuracy)"
   ]
  },
  {
   "cell_type": "markdown",
   "id": "90c7a4a8",
   "metadata": {},
   "source": [
    "#### *Mô hình Logistic Regression:*"
   ]
  },
  {
   "cell_type": "code",
   "execution_count": 130,
   "id": "b930f90c",
   "metadata": {},
   "outputs": [
    {
     "name": "stdout",
     "output_type": "stream",
     "text": [
      "Best Parameters: {'C': 100000, 'penalty': 'l2'}\n",
      "Best Score: 0.9920199335548172\n",
      "Validation Accuracy: 0.9946808510638298\n"
     ]
    },
    {
     "name": "stderr",
     "output_type": "stream",
     "text": [
      "c:\\Users\\DABEII-PC\\AppData\\Local\\Programs\\Python\\Python312\\Lib\\site-packages\\sklearn\\model_selection\\_validation.py:547: FitFailedWarning: \n",
      "50 fits failed out of a total of 100.\n",
      "The score on these train-test partitions for these parameters will be set to nan.\n",
      "If these failures are not expected, you can try to debug them by setting error_score='raise'.\n",
      "\n",
      "Below are more details about the failures:\n",
      "--------------------------------------------------------------------------------\n",
      "50 fits failed with the following error:\n",
      "Traceback (most recent call last):\n",
      "  File \"c:\\Users\\DABEII-PC\\AppData\\Local\\Programs\\Python\\Python312\\Lib\\site-packages\\sklearn\\model_selection\\_validation.py\", line 895, in _fit_and_score\n",
      "    estimator.fit(X_train, y_train, **fit_params)\n",
      "  File \"c:\\Users\\DABEII-PC\\AppData\\Local\\Programs\\Python\\Python312\\Lib\\site-packages\\sklearn\\base.py\", line 1474, in wrapper\n",
      "    return fit_method(estimator, *args, **kwargs)\n",
      "           ^^^^^^^^^^^^^^^^^^^^^^^^^^^^^^^^^^^^^^\n",
      "  File \"c:\\Users\\DABEII-PC\\AppData\\Local\\Programs\\Python\\Python312\\Lib\\site-packages\\sklearn\\linear_model\\_logistic.py\", line 1172, in fit\n",
      "    solver = _check_solver(self.solver, self.penalty, self.dual)\n",
      "             ^^^^^^^^^^^^^^^^^^^^^^^^^^^^^^^^^^^^^^^^^^^^^^^^^^^\n",
      "  File \"c:\\Users\\DABEII-PC\\AppData\\Local\\Programs\\Python\\Python312\\Lib\\site-packages\\sklearn\\linear_model\\_logistic.py\", line 67, in _check_solver\n",
      "    raise ValueError(\n",
      "ValueError: Solver lbfgs supports only 'l2' or None penalties, got l1 penalty.\n",
      "\n",
      "  warnings.warn(some_fits_failed_message, FitFailedWarning)\n",
      "c:\\Users\\DABEII-PC\\AppData\\Local\\Programs\\Python\\Python312\\Lib\\site-packages\\sklearn\\model_selection\\_search.py:1051: UserWarning: One or more of the test scores are non-finite: [       nan 0.94610853        nan 0.95875083        nan 0.97805316\n",
      "        nan 0.98603765        nan 0.99069324        nan 0.98935548\n",
      "        nan 0.98869767        nan 0.99069103        nan 0.99201993\n",
      "        nan 0.99135548]\n",
      "  warnings.warn(\n",
      "c:\\Users\\DABEII-PC\\AppData\\Local\\Programs\\Python\\Python312\\Lib\\site-packages\\sklearn\\linear_model\\_logistic.py:469: ConvergenceWarning: lbfgs failed to converge (status=1):\n",
      "STOP: TOTAL NO. of ITERATIONS REACHED LIMIT.\n",
      "\n",
      "Increase the number of iterations (max_iter) or scale the data as shown in:\n",
      "    https://scikit-learn.org/stable/modules/preprocessing.html\n",
      "Please also refer to the documentation for alternative solver options:\n",
      "    https://scikit-learn.org/stable/modules/linear_model.html#logistic-regression\n",
      "  n_iter_i = _check_optimize_result(\n"
     ]
    }
   ],
   "source": [
    "from sklearn.model_selection import GridSearchCV\n",
    "from sklearn.linear_model import LogisticRegression\n",
    "\n",
    "# Khởi tạo mô hình\n",
    "model = LogisticRegression()\n",
    "\n",
    "# Định nghĩa lưới các giá trị siêu tham số cần tìm kiếm\n",
    "param_grid = {\n",
    "    'penalty': ['l1', 'l2'],             # Phương pháp chuẩn hóa (L1 hoặc L2)\n",
    "    'C': [0.001, 0.01, 0.1, 1, 10, 100, 1000, 10000, 100000, 1000000]  # Tham số điều chuẩn\n",
    "}\n",
    "\n",
    "# Khởi tạo GridSearchCV\n",
    "grid_search = GridSearchCV(estimator=model, param_grid=param_grid, cv=5, scoring='accuracy',n_jobs=-1)\n",
    "\n",
    "# Thực hiện tìm kiếm siêu tham số\n",
    "grid_search.fit(X_train, y_train)\n",
    "\n",
    "# Lấy siêu tham số tốt nhất và điểm số tốt nhất\n",
    "best_params = grid_search.best_params_\n",
    "best_score = grid_search.best_score_\n",
    "\n",
    "print(\"Best Parameters:\", best_params)\n",
    "print(\"Best Score:\", best_score)\n",
    "\n",
    "best_lr_model = grid_search.best_estimator_\n",
    "best_lr_val_preds = best_lr_model.predict(X_val)\n",
    "best_lr_model_accuracy = metrics.accuracy_score(y_val, best_lr_val_preds)\n",
    "print(\"Validation Accuracy:\", best_lr_model_accuracy)"
   ]
  },
  {
   "cell_type": "code",
   "execution_count": 131,
   "id": "e6a8d397",
   "metadata": {},
   "outputs": [
    {
     "data": {
      "image/png": "[encoded data removed]",
      "text/plain": [
       "<Figure size 800x600 with 1 Axes>"
      ]
     },
     "metadata": {},
     "output_type": "display_data"
    }
   ],
   "source": [
    "# Tạo danh sách các mô hình và độ đo accuracy tương ứng\n",
    "models = ['Logistic Regression', 'K-Nearest Neighbors', 'Decision Tree']\n",
    "accuracies = [best_lr_model_accuracy, best_knn_model_accuracy, best_dt_model_accuracy]\n",
    "\n",
    "# Vẽ biểu đồ cột so sánh độ đo accuracy\n",
    "plt.figure(figsize=(8, 6))\n",
    "plt.bar(models, accuracies, color=['blue', 'green', 'orange'])\n",
    "plt.title('Accuracy Comparison of Different Models')\n",
    "plt.xlabel('Models')\n",
    "plt.ylabel('Accuracy')\n",
    "plt.ylim(0, 1)\n",
    "plt.show()"
   ]
  },
  {
   "cell_type": "markdown",
   "id": "5f482a18",
   "metadata": {},
   "source": [
    "##### ***=> Logistic Regression lại đưa ra giá trị đo 'Accuracy' cao nhất với siêu tham số:***"
   ]
  },
  {
   "cell_type": "code",
   "execution_count": 132,
   "id": "41bb255c",
   "metadata": {},
   "outputs": [
    {
     "data": {
      "text/plain": [
       "{'C': 100000, 'penalty': 'l2'}"
      ]
     },
     "execution_count": 132,
     "metadata": {},
     "output_type": "execute_result"
    }
   ],
   "source": [
    "best_params"
   ]
  },
  {
   "cell_type": "markdown",
   "id": "eabdeff7",
   "metadata": {},
   "source": [
    "## **So sánh giữa 2 mô hình normal và hyper-parameter applied:**"
   ]
  },
  {
   "cell_type": "code",
   "execution_count": 133,
   "id": "533e3bdb",
   "metadata": {},
   "outputs": [
    {
     "name": "stdout",
     "output_type": "stream",
     "text": [
      "Rows end up detecting fraud with normal model:  22551\n",
      "Rows end up detecting fraud with hyper-parameter applied model:  24163\n"
     ]
    }
   ],
   "source": [
    "#Dùng mô hình Logistic với siêu tham số để train với tập test\n",
    "lr_best_pred_test = best_lr_model.predict(X_test)\n",
    "\n",
    "##Lưu vào dataframe\n",
    "result_best_df = pd.DataFrame({\"fraud\": lr_best_pred_test})\n",
    "\n",
    "##Sự khác biệt giữa mô hình logistic đã áp dụng siêu tham số so với KHÔNG áp dụng\n",
    "print('Rows end up detecting fraud with normal model: ',len(result_df[result_df['fraud'] == 1]))\n",
    "print('Rows end up detecting fraud with hyper-parameter applied model: ',len(result_best_df[result_best_df['fraud'] == 1]))"
   ]
  },
  {
   "cell_type": "markdown",
   "id": "262a9643",
   "metadata": {},
   "source": [
    "##### => *Có thể thấy sau khi train với dữ liệu của tập Test, mô hình logistic sử dụng siêu tham số đã đưa ra được kết quả nhiều hơn ở lớp 'fraud' (Điều này không liên quan tới tính chính xác của mô hình trên tập dữ liệu mới nhưng nó cho thấy sự khác biệt giữa 2 mô hình)*"
   ]
  },
  {
   "cell_type": "code",
   "execution_count": 134,
   "id": "05a4dd7e",
   "metadata": {},
   "outputs": [
    {
     "data": {
      "image/png": "[encoded data removed]",
      "text/plain": [
       "<Figure size 1000x400 with 2 Axes>"
      ]
     },
     "metadata": {},
     "output_type": "display_data"
    }
   ],
   "source": [
    "import seaborn as sns\n",
    "import matplotlib.pyplot as plt\n",
    "\n",
    "cm_lr_hp = confusion_matrix(y_val,best_lr_val_preds)\n",
    "cm_lr = confusion_matrix(y_val,lr_preds_val)\n",
    "# Vẽ confusion matrix cho mô hình 1\n",
    "plt.figure(figsize=(10, 4))\n",
    "plt.subplot(1, 2, 1)\n",
    "sns.heatmap(cm_lr_hp, annot=True, fmt='d', cmap='Blues', cbar=False)\n",
    "plt.title(\"Confusion Matrix - Logistic Regression with Hyper-Parameters\")\n",
    "plt.xlabel(\"Predicted Label\")\n",
    "plt.ylabel(\"True Label\")\n",
    "\n",
    "# Vẽ confusion matrix cho mô hình 2\n",
    "plt.subplot(1, 2, 2)\n",
    "sns.heatmap(cm_lr, annot=True, fmt='d', cmap='Oranges', cbar=False)\n",
    "plt.title(\"Confusion Matrix - Normal Logistic Regression\")\n",
    "plt.xlabel(\"Predicted Label\")\n",
    "plt.ylabel(\"True Label\")\n",
    "\n",
    "plt.tight_layout()\n",
    "plt.show()"
   ]
  },
  {
   "cell_type": "code",
   "execution_count": 135,
   "id": "d842e225",
   "metadata": {},
   "outputs": [
    {
     "data": {
      "image/png": "[encoded data removed]",
      "text/plain": [
       "<Figure size 800x600 with 1 Axes>"
      ]
     },
     "metadata": {},
     "output_type": "display_data"
    }
   ],
   "source": [
    "# Tạo danh sách các mô hình và độ đo accuracy tương ứng\n",
    "models = ['Logistic Regression with Hyper-Parameters', 'Normal Logistic Regression']\n",
    "accuracies = [best_lr_model_accuracy,lr_val_accuracy]\n",
    "\n",
    "# Vẽ biểu đồ cột so sánh độ đo accuracy\n",
    "plt.figure(figsize=(8, 6))\n",
    "plt.bar(models, accuracies, color=['blue', 'green', 'orange'])\n",
    "plt.title('Accuracy Comparison of Different Models')\n",
    "plt.xlabel('Models')\n",
    "plt.ylabel('Accuracy')\n",
    "plt.ylim(0, 1)\n",
    "plt.show()"
   ]
  },
  {
   "cell_type": "code",
   "execution_count": 136,
   "id": "df7adee0",
   "metadata": {},
   "outputs": [
    {
     "name": "stdout",
     "output_type": "stream",
     "text": [
      "Logistic model with Hyper-parameters Accuracy score:  0.9946808510638298\n",
      "Normal Logistic model Accuracy score:  0.9920212765957447\n"
     ]
    }
   ],
   "source": [
    "print('Logistic model with Hyper-parameters Accuracy score: ', best_lr_model_accuracy);\n",
    "print('Normal Logistic model Accuracy score: ', lr_val_accuracy);"
   ]
  },
  {
   "cell_type": "markdown",
   "id": "8df9f52c",
   "metadata": {},
   "source": [
    "##### => **Dựa vào so sánh giữa độ đo Accuracy của 2 mô hình cũng như confusion matrix, mô hình logistic với siêu tham số cho ra kết quả chính xác hơn mặc dù không có quá nhiều sự khác biệt**"
   ]
  },
  {
   "cell_type": "markdown",
   "id": "5c1ea91e",
   "metadata": {},
   "source": [
    "## **Tiến hành xuất ra phân lớp của tập Test dựa trên mô hình đưa ra độ đo tốt nhất đã học**"
   ]
  },
  {
   "cell_type": "code",
   "execution_count": 137,
   "id": "bf860367",
   "metadata": {},
   "outputs": [
    {
     "name": "stdout",
     "output_type": "stream",
     "text": [
      "Rows with fraud predict:  (24163, 1)\n",
      "Rows with non-fraud predict:  (473958, 1)\n"
     ]
    }
   ],
   "source": [
    "print('Rows with fraud predict: ',result_best_df[result_best_df['fraud'] == 1].shape)\n",
    "print('Rows with non-fraud predict: ',result_best_df[result_best_df['fraud'] == 0].shape)\n",
    "\n",
    "# Lưu kết quả ra file CSV\n",
    "result_df.to_csv(\"./result/Group_08_Competition_Phase1_Results.txt\", index=False)"
   ]
  }
 ],
 "metadata": {
  "kernelspec": {
   "display_name": "Python 3 (ipykernel)",
   "language": "python",
   "name": "python3"
  },
  "language_info": {
   "codemirror_mode": {
    "name": "ipython",
    "version": 3
   },
   "file_extension": ".py",
   "mimetype": "text/x-python",
   "name": "python",
   "nbconvert_exporter": "python",
   "pygments_lexer": "ipython3",
   "version": "3.12.2"
  }
 },
 "nbformat": 4,
 "nbformat_minor": 5
}
